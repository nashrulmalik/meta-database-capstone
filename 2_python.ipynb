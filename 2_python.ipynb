{
 "cells": [
  {
   "cell_type": "code",
   "execution_count": 1,
   "metadata": {},
   "outputs": [],
   "source": [
    "import mysql.connector as connector\n",
    "connection = connector.connect(user = \"root\", password = \"root@123\")\n",
    "cursor = connection.cursor()\n",
    "cursor.execute(\"USE littlelemondb\")\n"
   ]
  },
  {
   "cell_type": "code",
   "execution_count": 2,
   "metadata": {},
   "outputs": [
    {
     "name": "stdout",
     "output_type": "stream",
     "text": [
      "['Max Quantity in Order']\n",
      "(5,)\n"
     ]
    }
   ],
   "source": [
    "cursor.callproc('GetMaxQuantity')\n",
    "results = next( cursor.stored_results() )\n",
    "\n",
    "# Retrieve recrods in \"dataset\"\n",
    "dataset = results.fetchall()\n",
    "\n",
    "# Retrieve column names using list comprehension in a 'for' loop \n",
    "for column_id in cursor.stored_results():\n",
    "    columns = [ column[0] for column in column_id.description ]\n",
    "\n",
    "# Print column names\n",
    "print(columns)\n",
    "\n",
    "# Print data \n",
    "for data in dataset:\n",
    "    print(data)"
   ]
  },
  {
   "cell_type": "code",
   "execution_count": 3,
   "metadata": {},
   "outputs": [
    {
     "name": "stdout",
     "output_type": "stream",
     "text": [
      "['BookingStatus']\n",
      "('Table 3 is already booked.',)\n"
     ]
    }
   ],
   "source": [
    "cursor.callproc('ManageBooking')\n",
    "results = next( cursor.stored_results())\n",
    "\n",
    "# Retrieve recrods in \"dataset\"\n",
    "dataset = results.fetchall()\n",
    "\n",
    "# Retrieve column names using list comprehension in a 'for' loop \n",
    "for column_id in cursor.stored_results():\n",
    "    columns = [ column[0] for column in column_id.description ]\n",
    "\n",
    "# Print column names\n",
    "print(columns)\n",
    "\n",
    "# Print data \n",
    "for data in dataset:\n",
    "    print(data)"
   ]
  },
  {
   "cell_type": "code",
   "execution_count": 11,
   "metadata": {},
   "outputs": [
    {
     "name": "stdout",
     "output_type": "stream",
     "text": [
      "['Confirmation']\n",
      "('New booking added',)\n"
     ]
    }
   ],
   "source": [
    "args = (99, 99, 99, '2022-12-10')\n",
    "cursor.callproc('AddBooking', args)\n",
    "connection.commit()\n",
    "results = next(cursor.stored_results() )\n",
    "\n",
    "# Retrieve recrods in \"dataset\"\n",
    "dataset = results.fetchall()\n",
    "\n",
    "# Retrieve column names using list comprehension in a 'for' loop \n",
    "for column_id in cursor.stored_results():\n",
    "    columns = [ column[0] for column in column_id.description ]\n",
    "\n",
    "# Print column names\n",
    "print(columns)\n",
    "\n",
    "# Print data \n",
    "for data in dataset:\n",
    "    print(data)"
   ]
  },
  {
   "cell_type": "code",
   "execution_count": 12,
   "metadata": {},
   "outputs": [
    {
     "name": "stdout",
     "output_type": "stream",
     "text": [
      "['Confirmation']\n",
      "('Booking 99 updated',)\n"
     ]
    }
   ],
   "source": [
    "args = (99, '2022-1-10')\n",
    "cursor.callproc('UpdateBooking', args)\n",
    "connection.commit()\n",
    "results = next(cursor.stored_results() )\n",
    "\n",
    "# Retrieve recrods in \"dataset\"\n",
    "dataset = results.fetchall()\n",
    "\n",
    "# Retrieve column names using list comprehension in a 'for' loop \n",
    "for column_id in cursor.stored_results():\n",
    "    columns = [ column[0] for column in column_id.description ]\n",
    "\n",
    "# Print column names\n",
    "print(columns)\n",
    "\n",
    "# Print data \n",
    "for data in dataset:\n",
    "    print(data)"
   ]
  },
  {
   "cell_type": "code",
   "execution_count": 13,
   "metadata": {},
   "outputs": [
    {
     "name": "stdout",
     "output_type": "stream",
     "text": [
      "['Confirmation']\n",
      "('Booking 99 cancelled',)\n"
     ]
    }
   ],
   "source": [
    "args = [99]\n",
    "cursor.callproc('CancelBooking', args)\n",
    "connection.commit()\n",
    "results = next(cursor.stored_results() )\n",
    "\n",
    "# Retrieve recrods in \"dataset\"\n",
    "dataset = results.fetchall()\n",
    "\n",
    "# Retrieve column names using list comprehension in a 'for' loop \n",
    "for column_id in cursor.stored_results():\n",
    "    columns = [ column[0] for column in column_id.description ]\n",
    "\n",
    "# Print column names\n",
    "print(columns)\n",
    "\n",
    "# Print data \n",
    "for data in dataset:\n",
    "    print(data)"
   ]
  }
 ],
 "metadata": {
  "kernelspec": {
   "display_name": "Python 3",
   "language": "python",
   "name": "python3"
  },
  "language_info": {
   "codemirror_mode": {
    "name": "ipython",
    "version": 3
   },
   "file_extension": ".py",
   "mimetype": "text/x-python",
   "name": "python",
   "nbconvert_exporter": "python",
   "pygments_lexer": "ipython3",
   "version": "3.11.4"
  }
 },
 "nbformat": 4,
 "nbformat_minor": 2
}
